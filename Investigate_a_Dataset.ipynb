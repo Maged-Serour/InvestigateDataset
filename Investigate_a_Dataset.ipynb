{
 "cells": [
  {
   "cell_type": "markdown",
   "metadata": {},
   "source": [
    "\n",
    "# Project: Investigate a Dataset - No-show appointments\n",
    "\n",
    "## Table of Contents\n",
    "<ul>\n",
    "<li><a href=\"#intro\">Introduction</a></li>\n",
    "<li><a href=\"#wrangling\">Data Wrangling</a></li>\n",
    "<li><a href=\"#eda\">Exploratory Data Analysis</a></li>\n",
    "<li><a href=\"#conclusions\">Conclusions</a></li>\n",
    "</ul>"
   ]
  },
  {
   "cell_type": "markdown",
   "metadata": {},
   "source": [
    "<a id='intro'></a>\n",
    "## Introduction\n",
    "\n",
    "### Dataset Description \n",
    "\n",
    "This dataset represents the data collected from over 100 thousand medical appointments and it includes several parameters:\n",
    "- Unique identifiers: \"Patient ID\" and \"Appointment ID\"\n",
    "- Dates and times of scheduling and the actual appointment: \"Scheduled Day\" and \"Appointment Day\"\n",
    "- Demographic data: \"Age\", \"Gender\", and \"Neighbourhood\"\n",
    "- Medical condition parameters: \"Hypertension\", \"Diabetes\", \"Alcoholism\", and \"Handicap\"\n",
    "- Additional data: \"Scholarship\" which shows the patients who are subscribed to medical insurance, and \"SMS Received\" to show if the patient received a confirmation message for the medical appointment\n",
    "- The key value: \"No Show\" which determines if the patient showed up for the medical appointment or not\n",
    "\n",
    "We'll examine some of these parameters with relation to the key value to determine if any of these factors can be the reason for a missed medical appointment. This analysis would assist us in predicting if the patient will actually show up in the future for the medical appointment.\n",
    "\n",
    "\n",
    "\n",
    "### Question(s) for Analysis\n",
    "\n",
    "- Are the patient's demographics related to him/her not showing up for the medical appointment?\n",
    "- Is it possible for the patient's medical condition to prevent him/her from showing up?\n",
    "- Can having a scholarship or sending a confirmation SMS be important factors to ensure that the patient shows up?\n",
    "- Will we be able to predict the probability of the patient not showing up based on the available data in this dataset?\n"
   ]
  },
  {
   "cell_type": "code",
   "execution_count": null,
   "metadata": {},
   "outputs": [],
   "source": [
    "# importing the packages that will be used in this analysis\n",
    "\n",
    "import numpy as np\n",
    "import pandas as pd\n",
    "import matplotlib.pyplot as plt\n",
    "import seaborn as sns\n",
    "\n",
    "%matplotlib inline\n"
   ]
  },
  {
   "cell_type": "code",
   "execution_count": null,
   "metadata": {},
   "outputs": [],
   "source": [
    "# Upgrade pandas to use dataframe.explode() function. \n",
    "# no need to use the explode() function for this dataset as there are no list-like entries in the cells\n",
    "#!pip install --upgrade pandas==0.25.0\n",
    "\n",
    "# Upgrading seaborn to use histplot attribute\n",
    "!pip install -U seaborn\n"
   ]
  },
  {
   "cell_type": "markdown",
   "metadata": {},
   "source": [
    "<a id='wrangling'></a>\n",
    "## Data Wrangling\n",
    "\n",
    "\n",
    "### General Properties\n"
   ]
  },
  {
   "cell_type": "code",
   "execution_count": null,
   "metadata": {},
   "outputs": [],
   "source": [
    "# Reading the dataset and loading it in a dataframe object\n",
    "df = pd.read_csv('noshowappointments-kagglev2-may-2016.csv')\n",
    "# displaying the first 5 rows to validate that the dataset was imported correctly\n",
    "df.head()"
   ]
  },
  {
   "cell_type": "code",
   "execution_count": null,
   "metadata": {},
   "outputs": [],
   "source": [
    "# Displaying columns and datatypes, and number of entries for each column\n",
    "df.info()"
   ]
  },
  {
   "cell_type": "code",
   "execution_count": null,
   "metadata": {},
   "outputs": [],
   "source": [
    "# finding duplicated entries\n",
    "print(df.duplicated().sum())\n",
    "# no duplicated rows"
   ]
  },
  {
   "cell_type": "code",
   "execution_count": null,
   "metadata": {
    "scrolled": true
   },
   "outputs": [],
   "source": [
    "# Displaying statistical data\n",
    "df.describe()"
   ]
  },
  {
   "cell_type": "code",
   "execution_count": null,
   "metadata": {},
   "outputs": [],
   "source": [
    "# displaying the number of unique values for each column\n",
    "df.nunique()"
   ]
  },
  {
   "cell_type": "code",
   "execution_count": null,
   "metadata": {},
   "outputs": [],
   "source": [
    "# listing the values of the Handcap column and the counts for each value\n",
    "df['Handcap'].value_counts()"
   ]
  },
  {
   "cell_type": "markdown",
   "metadata": {},
   "source": [
    "## The initial investigation for the dataset revealed the following:\n",
    "- The dataset shape is 14 columns X 110527 rows\n",
    "- There are no missing data (All columns have the same number of row entries 110527)\n",
    "- ScheduledDay and AppointmentDay datatypes is a string object and should be converted to datetime format\n",
    "- Scholarship, Hipertension, Diabetes, Alcoholism, and SMS_received are all entered as 0 for No and 1 for Yes and thus can be converted to Boolean datatype\n",
    "- No-show datatype is string with entries are only Yes and No, so it should be converted to Boolean True/False datatype too\n",
    "- Handcap have 5 unique values, possibly the degree of the handicap (ranging from 0 as non-handicap to 4 as highest degree of handicap/disability)\n",
    "- There are no duplicated entries in the dataset\n",
    "- Checking the Age parameter reveals some erratic data that should be dropped (min is -1 and max is 115 which is outside the reasonable ranges)\n",
    "\n",
    "#### Further analysis that can be performed:\n",
    "- PatientId should be investigated to check for repetitive patients and the likelihood of them not showing up for their appointment\n",
    "- ScheduledDay column (unlike the AppointmentDay column) has a timestamp. Since there are 110527 unique Appointment IDs and only 103549 unique entries in the ScheduledDay, the 6978 difference can be investigated to check for incorrect data entry."
   ]
  },
  {
   "cell_type": "markdown",
   "metadata": {},
   "source": [
    "\n",
    "### Data Cleaning\n"
   ]
  },
  {
   "cell_type": "code",
   "execution_count": null,
   "metadata": {},
   "outputs": [],
   "source": [
    "# Converting the datatypes of the ScheduledDay and AppointmentDay columns to datetime format\n",
    "# and verifying the successful conversion\n",
    "\n",
    "df['ScheduledDay'] = pd.to_datetime(df['ScheduledDay'])\n",
    "df['AppointmentDay'] = pd.to_datetime(df['AppointmentDay'])\n",
    "df.info()"
   ]
  },
  {
   "cell_type": "code",
   "execution_count": null,
   "metadata": {},
   "outputs": [],
   "source": [
    "# Displaying the first 5 rows to emphasize the successful conversion\n",
    "df.head()"
   ]
  },
  {
   "cell_type": "code",
   "execution_count": null,
   "metadata": {},
   "outputs": [],
   "source": [
    "# printing the value counts of each of the binary fields before converting to boolean datatype\n",
    "print(df['Scholarship'].value_counts())\n",
    "print(df['Hipertension'].value_counts())\n",
    "print(df['Diabetes'].value_counts())\n",
    "print(df['Alcoholism'].value_counts())\n",
    "print(df['SMS_received'].value_counts())"
   ]
  },
  {
   "cell_type": "code",
   "execution_count": null,
   "metadata": {},
   "outputs": [],
   "source": [
    "# Converting the Scholarship, Hipertension, Diabetes, Alcoholism, and SMS_received binary integar values to boolean\n",
    "# then printing the value counts after conversion to verify it is the same value counts as listed above\n",
    "df['Scholarship'] = df['Scholarship'].astype('bool')\n",
    "df['Hipertension'] = df['Hipertension'].astype('bool')\n",
    "df['Diabetes'] = df['Diabetes'].astype('bool')\n",
    "df['Alcoholism'] = df['Alcoholism'].astype('bool')\n",
    "df['SMS_received'] = df['SMS_received'].astype('bool')\n",
    "print(df['Scholarship'].value_counts())\n",
    "print(df['Hipertension'].value_counts())\n",
    "print(df['Diabetes'].value_counts())\n",
    "print(df['Alcoholism'].value_counts())\n",
    "print(df['SMS_received'].value_counts())\n",
    "\n",
    "# applying the astype('bool') to the No-show column messed the column entries,\n",
    "# so after reloading the kernel, I'll find another way to change the datatype to bool keeping the original values\n",
    "# df['No-show'] = df['No-show'].astype('bool')\n"
   ]
  },
  {
   "cell_type": "code",
   "execution_count": null,
   "metadata": {},
   "outputs": [],
   "source": [
    "# Renaming the No-show column\n",
    "df.rename(columns = {'No-show':'noshow'}, inplace = True)"
   ]
  },
  {
   "cell_type": "code",
   "execution_count": null,
   "metadata": {},
   "outputs": [],
   "source": [
    "# displaying the No-show value counts before conversion\n",
    "df['noshow'].value_counts()"
   ]
  },
  {
   "cell_type": "code",
   "execution_count": null,
   "metadata": {},
   "outputs": [],
   "source": [
    "# https://stackoverflow.com/questions/17702272/convert-pandas-series-containing-string-to-boolean\n",
    "# converting the No-show Yes/No string values to True/False boolean values then verifying the successful conversion\n",
    "# by checking the after conversion value counts against the before conversion value counts above \n",
    "df['noshow'].replace({'No': 0, 'Yes': 1}, inplace = True)\n",
    "df['noshow'] = df['noshow'].astype('bool')\n",
    "df['noshow'].value_counts()"
   ]
  },
  {
   "cell_type": "code",
   "execution_count": null,
   "metadata": {},
   "outputs": [],
   "source": [
    "# verifying datatypes after conversion\n",
    "df.info()"
   ]
  },
  {
   "cell_type": "code",
   "execution_count": null,
   "metadata": {},
   "outputs": [],
   "source": [
    "# checking the data for patients over 99 years old\n",
    "df.loc[df['Age'] > 99]"
   ]
  },
  {
   "cell_type": "markdown",
   "metadata": {},
   "source": [
    "After checking the above data for patients above 99 years old, it was discovered that they actually showed up for their medical appointment, except for a 115 years old female patient who scheduled 4 appointments and showed up once.\n",
    "No data to drop here, as these entries should be included in the analysis."
   ]
  },
  {
   "cell_type": "code",
   "execution_count": null,
   "metadata": {},
   "outputs": [],
   "source": [
    "# checking data for patients with negative age\n",
    "df.loc[df['Age'] < 0]"
   ]
  },
  {
   "cell_type": "code",
   "execution_count": null,
   "metadata": {},
   "outputs": [],
   "source": [
    "# Dropping the wrong age row\n",
    "df.drop([99832], inplace=True)"
   ]
  },
  {
   "cell_type": "markdown",
   "metadata": {},
   "source": [
    "Now that the dataset is cleaned, we proceed to the next section of the data analysis process."
   ]
  },
  {
   "cell_type": "markdown",
   "metadata": {},
   "source": [
    "<a id='eda'></a>\n",
    "## Exploratory Data Analysis\n",
    "\n",
    "\n",
    "\n",
    "### Are the patient's demographics related to him/her not showing up for the medical appointment?"
   ]
  },
  {
   "cell_type": "markdown",
   "metadata": {},
   "source": [
    "Evaluating the Age, Gender, and Neighbourhood parameters and it's correlation to No Show"
   ]
  },
  {
   "cell_type": "code",
   "execution_count": null,
   "metadata": {},
   "outputs": [],
   "source": [
    "df.groupby('Neighbourhood')['noshow'].count()"
   ]
  },
  {
   "cell_type": "code",
   "execution_count": null,
   "metadata": {},
   "outputs": [],
   "source": [
    "df.groupby('Neighbourhood').sum()['noshow'].describe()"
   ]
  },
  {
   "cell_type": "markdown",
   "metadata": {},
   "source": [
    "As we now know the 81 neighbourhoods in the dataset and the number of patients in each neighbourhood, we'll now examine how many of no show appointments were made from each neighbourhood.\n",
    "For that purpose, we'll subset the original dataset to select the no show patients (No Show = True) and then display it proportionally to the original dataset."
   ]
  },
  {
   "cell_type": "code",
   "execution_count": null,
   "metadata": {},
   "outputs": [],
   "source": [
    "# Filtering the original dataframe to show only the patients who missed their appointments\n",
    "# and assigning it to another dataframe labelled 'noshows'\n",
    "# previously used subsetting the dataframe to filter the no shows, but it returned a SettingWithCopyWarning later\n",
    "# the warning suggested I use the .loc instead, but it didn't solve the problem\n",
    "noshows = df.loc[df['noshow'] == True]\n",
    "noshows.groupby('Neighbourhood')['noshow'].count().plot(kind='bar', title='Percentage of No Shows per neighbourhood',figsize=(20,20), alpha=.7);"
   ]
  },
  {
   "cell_type": "code",
   "execution_count": null,
   "metadata": {},
   "outputs": [],
   "source": [
    "# https://seaborn.pydata.org/generated/seaborn.histplot.html\n",
    "sns.set(rc={'figure.figsize':(20,20)})\n",
    "sns.histplot(data=df, y='Neighbourhood', bins=10, hue='noshow')\n",
    "plt.title(\"Percentage of No Show for each Neighbourhood\")\n",
    "plt.show()"
   ]
  },
  {
   "cell_type": "code",
   "execution_count": null,
   "metadata": {},
   "outputs": [],
   "source": [
    "# Calculating the number of patients from each neighbourhood not showing up\n",
    "# in proportion to the total number of patients in that neighbourhood\n",
    "totals = df.groupby('Neighbourhood')['noshow'].count()\n",
    "counts = noshows.groupby('Neighbourhood')['noshow'].count()\n",
    "proportions = counts / totals\n",
    "proportions[proportions > 0.25]"
   ]
  },
  {
   "cell_type": "markdown",
   "metadata": {},
   "source": [
    "Patients from the above 5 neighbourhoods are the most likely to miss their appointments."
   ]
  },
  {
   "cell_type": "markdown",
   "metadata": {},
   "source": [
    "Now for the age analysis, we'll cut the dataset into 4 categories to check if a certain age group is more likely to miss their medical appointment."
   ]
  },
  {
   "cell_type": "code",
   "execution_count": null,
   "metadata": {},
   "outputs": [],
   "source": [
    "# Statistical Age data in the noshows dataframe\n",
    "noshows['Age'].describe()"
   ]
  },
  {
   "cell_type": "code",
   "execution_count": null,
   "metadata": {},
   "outputs": [],
   "source": [
    "# Creating age groups based on the above age statistical data\n",
    "# to examine the correlation between the age group and no show\n",
    "# This code returns a warning, I read the provided link and applied the suggested method as mentioned above\n",
    "# The warning still pops up\n",
    "bin_edges = [0.0, 16.0, 33.0, 51.0, 115.0]\n",
    "bin_names = ['Child', 'Youth', 'Adult', 'Senior']\n",
    "noshows['Age_Group'] = pd.cut(noshows['Age'], bin_edges, labels=bin_names)"
   ]
  },
  {
   "cell_type": "code",
   "execution_count": null,
   "metadata": {},
   "outputs": [],
   "source": [
    "# Value counts for the age groups in the noshows dataframe\n",
    "noshows['Age_Group'].value_counts()"
   ]
  },
  {
   "cell_type": "markdown",
   "metadata": {},
   "source": [
    "From the above numbers, we see that Youth (ages between 16 and 33) are the most likely to miss their appointment.\n",
    "On the other hand, Children (below 16 years) are more likely to show up for their medical appointment by a small difference."
   ]
  },
  {
   "cell_type": "code",
   "execution_count": null,
   "metadata": {},
   "outputs": [],
   "source": [
    "# plotting the ratio of no shows for each gender\n",
    "sns.set(rc={'figure.figsize':(5,5)})\n",
    "sns.histplot(data=df, x='Gender', bins=10, hue='noshow')\n",
    "plt.title(\"Percentage of No Show for each Gender\")\n",
    "plt.show()"
   ]
  },
  {
   "cell_type": "code",
   "execution_count": null,
   "metadata": {},
   "outputs": [],
   "source": [
    "# calculating the percentage of no shows for each gender in proportion to the total numbers for the gender\n",
    "gender_percent = noshows['Gender'].value_counts() / df['Gender'].value_counts()\n",
    "print(gender_percent)"
   ]
  },
  {
   "cell_type": "markdown",
   "metadata": {},
   "source": [
    "As seen from the above plotting and calculation, the patient gender has negligible effect on the no show status."
   ]
  },
  {
   "cell_type": "markdown",
   "metadata": {},
   "source": [
    "### Is it possible for the patient's medical condition to prevent him/her from showing up?"
   ]
  },
  {
   "cell_type": "raw",
   "metadata": {},
   "source": [
    "Now for the patient's medical condition, we'll examine the medical parameters provided in the data set to determine if it can cause the patient to miss the appointment.\n",
    "We'll plot each of the medical information by examining the following fields:\n",
    "- Hipertension\n",
    "- Diabetes\n",
    "- Alcoholism\n",
    "- Handicap"
   ]
  },
  {
   "cell_type": "code",
   "execution_count": null,
   "metadata": {},
   "outputs": [],
   "source": [
    "# Applying the same proportion calculation for each of the medical parameters\n",
    "htn_percent = noshows['Hipertension'].value_counts() / df['Hipertension'].value_counts()\n",
    "dbt_percent = noshows['Diabetes'].value_counts() / df['Diabetes'].value_counts()\n",
    "alc_percent = noshows['Alcoholism'].value_counts() / df['Alcoholism'].value_counts()\n",
    "hcp_percent = noshows['Handcap'].value_counts() / df['Handcap'].value_counts()\n",
    "print(\"Hipertension compared to No Show\\n{}\".format(htn_percent))\n",
    "print(\"\\nDiabetes  compared to No Show\\n{}\".format(dbt_percent))\n",
    "print(\"\\nAlcoholism  compared to No Show\\n{}\".format(alc_percent))\n",
    "print(\"\\nDegree of disability compared to No Show\\n{}\".format(hcp_percent))"
   ]
  },
  {
   "cell_type": "markdown",
   "metadata": {},
   "source": [
    "From the above figures, we conclude that the patient's medical condition in terms of Hipertension, Diabetes, and Alcolism has negligible effect on showing up for the medical appointment.\n",
    "However, it appears that the higher the patient's disability degree, the most likely he/she misses the medical appointment."
   ]
  },
  {
   "cell_type": "markdown",
   "metadata": {},
   "source": [
    "### Can having a scholarship or sending a confirmation SMS be important factors to ensure that the patient shows up?"
   ]
  },
  {
   "cell_type": "code",
   "execution_count": null,
   "metadata": {},
   "outputs": [],
   "source": [
    "# Applying the same proportion calculation for the Scholarship program and SMS received\n",
    "scholar_percent = noshows['Scholarship'].value_counts() / df['Scholarship'].value_counts()\n",
    "sms_percent = noshows['SMS_received'].value_counts() / df['SMS_received'].value_counts()\n",
    "print(\"Scholarship compared to No Show\\n{}\".format(scholar_percent))\n",
    "print(\"\\nSMS received compared to No Show\\n{}\".format(sms_percent))"
   ]
  },
  {
   "cell_type": "markdown",
   "metadata": {},
   "source": [
    "Examining the above figures reveals unexpected results. It seems there are negative correlation between each of the Scholarship and SMS received with reference to the no show status. In other words, the patients who have scholarship programs or received the appointment confirmation SMS are more likely to miss their medical appointments."
   ]
  },
  {
   "cell_type": "markdown",
   "metadata": {},
   "source": [
    "<a id='conclusions'></a>\n",
    "## Conclusions\n",
    "\n",
    "After performing the exploration process on the patient's dmographic data, medical condition, and additional parameters, we concluded the following:\n",
    "- Patients from 5 nieghbourhoods (Ilhas Oceânicas De Trindade, Itararé, Santa Cecília, Santa Clara, Santos Dumont) are more likely to miss their medical appointments in comparison to other neighbourhoods\n",
    "- Patients with high degree of disability are more likely to miss their medical appointment compared to healthy patients or patients with low degree of disability\n",
    "- We cannot use the patient's gender, age, and medical condition as indicators for predicting whether he/she shows up for the medical appointment or not\n",
    "- Investigating the dataset revealed that patients who receive a confirmation SMS for their medical appointment are more likely to miss it, also patients who have scholarship program are more likely to miss their medical appointment compared to patients who are not subscribed to the scholarship program\n",
    "- Further analysis can be performed on Patient ID to identify patients with several instances of missing their medical appointment, also we can further explore the difference between the scheduling date and appointment date to determine if the date gap between them would be a factor in the patient forgetting the appointment date and not showing up\n",
    "\n",
    "### Limitations\n",
    "\n",
    "Most of the collected parameters or patient characteristics in this dataset cannot be a viable indicator that would effectively enable us to predict the future probability of a patient showing up for the medical appointment or not.\n",
    "In my opinion, we need to collect more data such as medical appointment urgency based on the patient's condition, the appointment medical specialty, or the seasonal diseases information. \n",
    "\n",
    "\n",
    "## Submitting your Project \n"
   ]
  },
  {
   "cell_type": "code",
   "execution_count": null,
   "metadata": {},
   "outputs": [],
   "source": [
    "from subprocess import call\n",
    "call(['python', '-m', 'nbconvert', 'Investigate_a_Dataset.ipynb'])"
   ]
  }
 ],
 "metadata": {
  "kernelspec": {
   "display_name": "Python 3",
   "language": "python",
   "name": "python3"
  },
  "language_info": {
   "codemirror_mode": {
    "name": "ipython",
    "version": 3
   },
   "file_extension": ".py",
   "mimetype": "text/x-python",
   "name": "python",
   "nbconvert_exporter": "python",
   "pygments_lexer": "ipython3",
   "version": "3.6.3"
  }
 },
 "nbformat": 4,
 "nbformat_minor": 2
}
